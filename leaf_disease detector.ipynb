{
 "cells": [
  {
   "cell_type": "code",
   "execution_count": 4,
   "id": "209bc25d",
   "metadata": {},
   "outputs": [],
   "source": [
    "import numpy as np\n",
    "import pandas as pd\n",
    "import seaborn as sns\n",
    "import matplotlib.pyplot as plt\n",
    "import pathlib\n",
    "import tensorflow as tf\n",
    "from tensorflow.keras.models import Sequential\n",
    "from tensorflow.keras.layers import Dense,Dropout,Conv2D,MaxPooling2D,Flatten\n",
    "from tensorflow.keras.preprocessing.image import ImageDataGenerator\n",
    "import tensorflow_hub as hub\n",
    "import cv2"
   ]
  },
  {
   "cell_type": "code",
   "execution_count": 5,
   "id": "06dd6863",
   "metadata": {},
   "outputs": [
    {
     "name": "stdout",
     "output_type": "stream",
     "text": [
      "Found 77213 images belonging to 46 classes.\n",
      "Found 19237 images belonging to 46 classes.\n"
     ]
    }
   ],
   "source": [
    "train_gen = ImageDataGenerator(rescale=1/255.,rotation_range=0.2,zoom_range=0.2,\n",
    "                              shear_range=0.2,width_shift_range=0.2,height_shift_range=0.3,\n",
    "                              horizontal_flip=True,vertical_flip=True)\n",
    "test_gen = ImageDataGenerator(rescale=1/255.,rotation_range=0.2,zoom_range=0.2,\n",
    "                              shear_range=0.2,width_shift_range=0.2,height_shift_range=0.3,\n",
    "                              horizontal_flip=True,vertical_flip=True)\n",
    "train_dir = \"Leaf_dataset/train/\"\n",
    "test_dir = \"Leaf_dataset/test/\"\n",
    "\n",
    "train_data = train_gen.flow_from_directory(train_dir,target_size=(224,224),batch_size=32,\n",
    "                                          class_mode=\"categorical\")\n",
    "test_data = test_gen.flow_from_directory(test_dir,target_size=(224,224),batch_size=32,\n",
    "                                         class_mode=\"categorical\")"
   ]
  },
  {
   "cell_type": "code",
   "execution_count": 7,
   "id": "bc1dcfd8",
   "metadata": {},
   "outputs": [
    {
     "data": {
      "text/plain": [
       "array(['Apple___Apple_scab', 'Apple___Black_rot',\n",
       "       'Apple___Cedar_apple_rust', 'Apple___healthy',\n",
       "       'Blueberry___healthy', 'Cherry_(including_sour)___healthy',\n",
       "       'Cherry_(including_sour)___Powdery_mildew',\n",
       "       'Corn_(maize)___Cercospora_leaf_spot Gray_leaf_spot',\n",
       "       'Corn_(maize)___Common_rust_', 'Corn_(maize)___healthy',\n",
       "       'Corn_(maize)___Northern_Leaf_Blight', 'Grape___Black_rot',\n",
       "       'Grape___Esca_(Black_Measles)', 'Grape___healthy',\n",
       "       'Grape___Leaf_blight_(Isariopsis_Leaf_Spot)', 'Invalid',\n",
       "       'Orange___Haunglongbing_(Citrus_greening)',\n",
       "       'Peach___Bacterial_spot', 'Peach___healthy',\n",
       "       'Pepper,_bell___Bacterial_spot', 'Pepper,_bell___healthy',\n",
       "       'Potato___Early_blight', 'Potato___healthy',\n",
       "       'Potato___Late_blight', 'Raspberry___healthy', 'Rice___Brown_Spot',\n",
       "       'Rice___Healthy', 'Rice___Leaf_Blast', 'Rice___Neck_Blast',\n",
       "       'Soybean___healthy', 'Squash___Powdery_mildew',\n",
       "       'Strawberry___healthy', 'Strawberry___Leaf_scorch',\n",
       "       'Tomato___Bacterial_spot', 'Tomato___Early_blight',\n",
       "       'Tomato___healthy', 'Tomato___Late_blight', 'Tomato___Leaf_Mold',\n",
       "       'Tomato___Septoria_leaf_spot',\n",
       "       'Tomato___Spider_mites Two-spotted_spider_mite',\n",
       "       'Tomato___Target_Spot', 'Tomato___Tomato_mosaic_virus',\n",
       "       'Tomato___Tomato_Yellow_Leaf_Curl_Virus', 'Wheat___Brown_Rust',\n",
       "       'Wheat___Healthy', 'Wheat___Yellow_Rust'], dtype='<U50')"
      ]
     },
     "execution_count": 7,
     "metadata": {},
     "output_type": "execute_result"
    }
   ],
   "source": [
    "path = pathlib.Path(\"Leaf_dataset/train/\")\n",
    "class_name = np.array([item.name for item in path.glob(\"*\")])\n",
    "class_name"
   ]
  },
  {
   "cell_type": "markdown",
   "id": "f8943f4a",
   "metadata": {},
   "source": [
    "# I am getting avoid to make a model from scratch coze of, It will take lots of time  for train"
   ]
  },
  {
   "cell_type": "code",
   "execution_count": 8,
   "id": "bca017f0",
   "metadata": {},
   "outputs": [
    {
     "name": "stdout",
     "output_type": "stream",
     "text": [
      "WARNING:tensorflow:Please fix your imports. Module tensorflow.python.training.tracking.data_structures has been moved to tensorflow.python.trackable.data_structures. The old module will be deleted in version 2.11.\n",
      "WARNING:tensorflow:From C:\\Users\\Anmino\\anaconda3\\lib\\site-packages\\tensorflow\\python\\autograph\\pyct\\static_analysis\\liveness.py:83: Analyzer.lamba_check (from tensorflow.python.autograph.pyct.static_analysis.liveness) is deprecated and will be removed after 2023-09-23.\n",
      "Instructions for updating:\n",
      "Lambda fuctions will be no more assumed to be used in the statement where they are used, or at least in the same block. https://github.com/tensorflow/tensorflow/issues/56089\n"
     ]
    },
    {
     "name": "stderr",
     "output_type": "stream",
     "text": [
      "WARNING:tensorflow:From C:\\Users\\Anmino\\anaconda3\\lib\\site-packages\\tensorflow\\python\\autograph\\pyct\\static_analysis\\liveness.py:83: Analyzer.lamba_check (from tensorflow.python.autograph.pyct.static_analysis.liveness) is deprecated and will be removed after 2023-09-23.\n",
      "Instructions for updating:\n",
      "Lambda fuctions will be no more assumed to be used in the statement where they are used, or at least in the same block. https://github.com/tensorflow/tensorflow/issues/56089\n"
     ]
    }
   ],
   "source": [
    "\"\"\"model = Sequential()\n",
    "model.add(Conv2D(filters=128,kernel_size=(3,3),strides=(2,2),padding=\"same\",input_shape=(224,224,3),\n",
    "                activation=\"relu\")),\n",
    "model.add(MaxPooling2D(2,2)),\n",
    "\n",
    "model.add(Conv2D(64,kernel_size=(3,3),activation=\"relu\")),\n",
    "model.add(MaxPooling2D(2,2)),\n",
    "\n",
    "model.add(Conv2D(64,kernel_size=(3,3),activation=\"relu\")),\n",
    "model.add(MaxPooling2D(2,2)),\n",
    "\n",
    "model.add(Conv2D(64,kernel_size=(3,3),activation=\"relu\")),\n",
    "model.add(MaxPooling2D(2,2)),\n",
    "\n",
    "model.add(Conv2D(64,kernel_size=(3,3),activation=\"relu\")),\n",
    "model.add(MaxPooling2D(2,2)),\n",
    "\n",
    "\n",
    "model.add(Flatten()),\n",
    "\n",
    "\n",
    "model.add(Dense(550,activation=\"relu\")),\n",
    "model.add(Dropout(0.3)),\n",
    "model.add(Dense(460,activation='relu')),\n",
    "model.add(Dropout(0.3)),\n",
    "model.add(Dense(330,activation='relu')),\n",
    "model.add(Dropout(0.3)),\n",
    "model.add(Dense(230,activation='relu')),\n",
    "model.add(Dropout(0.3)),\n",
    "model.add(Dense(100,activation='relu')),\n",
    "model.add(Dropout(0.3)),\n",
    "model.add(Dense(100,activation='relu')),\n",
    "model.add(Dropout(0.3)),\n",
    "model.add(Dense(46,activation=tf.nn.softmax))\"\"\"\n",
    "\n",
    "url = r\"https://tfhub.dev/google/imagenet/mobilenet_v3_small_100_224/feature_vector/5\"\n",
    "\n",
    "model = Sequential()\n",
    "model.add(hub.KerasLayer(url,trainable=False,input_shape=(224,224,3)))\n",
    "model.add(Dense(46,activation=\"softmax\"))"
   ]
  },
  {
   "cell_type": "markdown",
   "id": "7482beaf",
   "metadata": {},
   "source": [
    "# I'm going to use my fav... transfer learning"
   ]
  },
  {
   "cell_type": "code",
   "execution_count": null,
   "id": "62fe5178",
   "metadata": {},
   "outputs": [],
   "source": [
    "url = r\"https://tfhub.dev/google/imagenet/mobilenet_v3_small_100_224/feature_vector/5\"\n",
    "\n",
    "model = Sequential()\n",
    "model.add(hub.KerasLayer(url,trainable=False,input_shape=(224,224,3)))\n",
    "model.add(Dense(46,activation=\"softmax\"))"
   ]
  },
  {
   "cell_type": "code",
   "execution_count": 9,
   "id": "da11bdd1",
   "metadata": {},
   "outputs": [],
   "source": [
    "model.compile(optimizer=tf.keras.optimizers.Adam(learning_rate=0.001),loss=tf.keras.losses.categorical_crossentropy,\n",
    "             metrics=[\"accuracy\"])"
   ]
  },
  {
   "cell_type": "code",
   "execution_count": 10,
   "id": "cbb4999a",
   "metadata": {},
   "outputs": [],
   "source": [
    "class callback_end(tf.keras.callbacks.Callback):\n",
    "    def on_batch_end(self,epochs,logs={}):\n",
    "        if(logs.get(\"accuracy\")>=0.97):\n",
    "            print(\"Training stop......\")\n",
    "            self.model.stop_training=True\n",
    "            \n",
    "callback_data = callback_end()"
   ]
  },
  {
   "cell_type": "code",
   "execution_count": 11,
   "id": "95fc0f6a",
   "metadata": {},
   "outputs": [
    {
     "name": "stdout",
     "output_type": "stream",
     "text": [
      "Epoch 1/300\n",
      "602/602 [==============================] - 901s 1s/step - loss: 0.9327 - accuracy: 0.7837 - val_loss: 0.4675 - val_accuracy: 0.8755\n",
      "Epoch 2/300\n",
      "602/602 [==============================] - 874s 1s/step - loss: 0.3546 - accuracy: 0.9033 - val_loss: 0.3423 - val_accuracy: 0.9025\n",
      "Epoch 3/300\n",
      "Training stop......\n",
      "602/602 [==============================] - 741s 1s/step - loss: 0.1180 - accuracy: 1.0000 - val_loss: 0.3406 - val_accuracy: 0.9007\n",
      "Model: \"sequential\"\n",
      "_________________________________________________________________\n",
      " Layer (type)                Output Shape              Param #   \n",
      "=================================================================\n",
      " keras_layer (KerasLayer)    (None, 1024)              1529968   \n",
      "                                                                 \n",
      " dense (Dense)               (None, 46)                47150     \n",
      "                                                                 \n",
      "=================================================================\n",
      "Total params: 1,577,118\n",
      "Trainable params: 47,150\n",
      "Non-trainable params: 1,529,968\n",
      "_________________________________________________________________\n",
      "None\n"
     ]
    }
   ],
   "source": [
    "model.fit(train_data,epochs=300,steps_per_epoch=len(test_data),\n",
    "         validation_data=test_data,validation_steps=len(test_data),\n",
    "         callbacks=[callback_data])\n",
    "print(model.summary())"
   ]
  },
  {
   "cell_type": "code",
   "execution_count": 12,
   "id": "e9b62dcf",
   "metadata": {},
   "outputs": [
    {
     "name": "stdout",
     "output_type": "stream",
     "text": [
      "602/602 [==============================] - 552s 916ms/step - loss: 0.3399 - accuracy: 0.9022\n"
     ]
    },
    {
     "data": {
      "text/plain": [
       "[0.33987241983413696, 0.9022196531295776]"
      ]
     },
     "execution_count": 12,
     "metadata": {},
     "output_type": "execute_result"
    }
   ],
   "source": [
    "model.evaluate(test_data)"
   ]
  },
  {
   "cell_type": "code",
   "execution_count": 13,
   "id": "94851300",
   "metadata": {},
   "outputs": [],
   "source": [
    "def preprocessing(filename,input_size=224):\n",
    "    image = tf.io.read_file(filename)\n",
    "    decode = tf.image.decode_image(image)\n",
    "    resize = tf.image.resize(decode,size=[input_size,input_size])\n",
    "    rescale = resize/255.\n",
    "    return rescale"
   ]
  },
  {
   "cell_type": "code",
   "execution_count": 14,
   "id": "3f9b770c",
   "metadata": {},
   "outputs": [],
   "source": [
    "read_image = \"Leaf_dataset/images_for_test/2.jpeg\"\n",
    "image = preprocessing(read_image)"
   ]
  },
  {
   "cell_type": "code",
   "execution_count": 15,
   "id": "5d2d7d06",
   "metadata": {},
   "outputs": [
    {
     "name": "stdout",
     "output_type": "stream",
     "text": [
      "1/1 [==============================] - 1s 1s/step\n"
     ]
    }
   ],
   "source": [
    "pred_model = model.predict(tf.expand_dims(image,axis=0))\n",
    "pred_class = class_name[(tf.argmax(pred_model[0]))]"
   ]
  },
  {
   "cell_type": "code",
   "execution_count": 16,
   "id": "74fa06a0",
   "metadata": {},
   "outputs": [],
   "source": [
    "model.save(\"leaf_disease detector.keras\")"
   ]
  }
 ],
 "metadata": {
  "kernelspec": {
   "display_name": "Python 3 (ipykernel)",
   "language": "python",
   "name": "python3"
  },
  "language_info": {
   "codemirror_mode": {
    "name": "ipython",
    "version": 3
   },
   "file_extension": ".py",
   "mimetype": "text/x-python",
   "name": "python",
   "nbconvert_exporter": "python",
   "pygments_lexer": "ipython3",
   "version": "3.9.13"
  }
 },
 "nbformat": 4,
 "nbformat_minor": 5
}
